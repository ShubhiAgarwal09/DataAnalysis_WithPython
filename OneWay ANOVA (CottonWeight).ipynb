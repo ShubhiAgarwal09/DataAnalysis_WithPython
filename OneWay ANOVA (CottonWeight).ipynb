{
 "cells": [
  {
   "cell_type": "code",
   "execution_count": 1,
   "metadata": {},
   "outputs": [],
   "source": [
    "import pandas as pd \n",
    "import numpy as np \n",
    "import matplotlib.pyplot as plt"
   ]
  },
  {
   "cell_type": "code",
   "execution_count": 2,
   "metadata": {},
   "outputs": [],
   "source": [
    "df = pd.read_csv('C:/Users/RUCHI/Downloads/cotton weight.csv')"
   ]
  },
  {
   "cell_type": "code",
   "execution_count": 3,
   "metadata": {},
   "outputs": [
    {
     "data": {
      "text/html": [
       "<div>\n",
       "<style scoped>\n",
       "    .dataframe tbody tr th:only-of-type {\n",
       "        vertical-align: middle;\n",
       "    }\n",
       "\n",
       "    .dataframe tbody tr th {\n",
       "        vertical-align: top;\n",
       "    }\n",
       "\n",
       "    .dataframe thead th {\n",
       "        text-align: right;\n",
       "    }\n",
       "</style>\n",
       "<table border=\"1\" class=\"dataframe\">\n",
       "  <thead>\n",
       "    <tr style=\"text-align: right;\">\n",
       "      <th></th>\n",
       "      <th>cotwt.15</th>\n",
       "      <th>cotwt.20</th>\n",
       "      <th>cotwt.25</th>\n",
       "      <th>cotwt.30</th>\n",
       "      <th>cotwt.35</th>\n",
       "    </tr>\n",
       "  </thead>\n",
       "  <tbody>\n",
       "    <tr>\n",
       "      <th>0</th>\n",
       "      <td>7</td>\n",
       "      <td>12</td>\n",
       "      <td>14</td>\n",
       "      <td>19</td>\n",
       "      <td>7</td>\n",
       "    </tr>\n",
       "    <tr>\n",
       "      <th>1</th>\n",
       "      <td>7</td>\n",
       "      <td>17</td>\n",
       "      <td>18</td>\n",
       "      <td>25</td>\n",
       "      <td>10</td>\n",
       "    </tr>\n",
       "    <tr>\n",
       "      <th>2</th>\n",
       "      <td>15</td>\n",
       "      <td>12</td>\n",
       "      <td>18</td>\n",
       "      <td>22</td>\n",
       "      <td>11</td>\n",
       "    </tr>\n",
       "    <tr>\n",
       "      <th>3</th>\n",
       "      <td>11</td>\n",
       "      <td>18</td>\n",
       "      <td>19</td>\n",
       "      <td>19</td>\n",
       "      <td>15</td>\n",
       "    </tr>\n",
       "    <tr>\n",
       "      <th>4</th>\n",
       "      <td>9</td>\n",
       "      <td>18</td>\n",
       "      <td>19</td>\n",
       "      <td>23</td>\n",
       "      <td>11</td>\n",
       "    </tr>\n",
       "  </tbody>\n",
       "</table>\n",
       "</div>"
      ],
      "text/plain": [
       "   cotwt.15  cotwt.20  cotwt.25  cotwt.30  cotwt.35\n",
       "0         7        12        14        19         7\n",
       "1         7        17        18        25        10\n",
       "2        15        12        18        22        11\n",
       "3        11        18        19        19        15\n",
       "4         9        18        19        23        11"
      ]
     },
     "execution_count": 3,
     "metadata": {},
     "output_type": "execute_result"
    }
   ],
   "source": [
    "df\n"
   ]
  },
  {
   "cell_type": "code",
   "execution_count": 14,
   "metadata": {},
   "outputs": [],
   "source": [
    "data_r1 = pd.melt(df.reset_index(),id_vars=['index'],value_vars=['cotwt.15','cotwt.20','cotwt.25','cotwt.30','cotwt.35'])\n",
    "data_r1.columns=['index','treatment','value']"
   ]
  },
  {
   "cell_type": "code",
   "execution_count": 10,
   "metadata": {},
   "outputs": [],
   "source": [
    "import scipy\n",
    "import statsmodels.api as sm\n",
    "from statsmodels.formula.api import ols\n",
    "#from patsy import dmatrices"
   ]
  },
  {
   "cell_type": "code",
   "execution_count": 15,
   "metadata": {},
   "outputs": [
    {
     "data": {
      "text/html": [
       "<table class=\"simpletable\">\n",
       "<caption>OLS Regression Results</caption>\n",
       "<tr>\n",
       "  <th>Dep. Variable:</th>          <td>value</td>      <th>  R-squared:         </th> <td>   0.747</td>\n",
       "</tr>\n",
       "<tr>\n",
       "  <th>Model:</th>                   <td>OLS</td>       <th>  Adj. R-squared:    </th> <td>   0.696</td>\n",
       "</tr>\n",
       "<tr>\n",
       "  <th>Method:</th>             <td>Least Squares</td>  <th>  F-statistic:       </th> <td>   14.76</td>\n",
       "</tr>\n",
       "<tr>\n",
       "  <th>Date:</th>             <td>Thu, 03 Mar 2022</td> <th>  Prob (F-statistic):</th> <td>9.13e-06</td>\n",
       "</tr>\n",
       "<tr>\n",
       "  <th>Time:</th>                 <td>17:38:25</td>     <th>  Log-Likelihood:    </th> <td> -58.771</td>\n",
       "</tr>\n",
       "<tr>\n",
       "  <th>No. Observations:</th>      <td>    25</td>      <th>  AIC:               </th> <td>   127.5</td>\n",
       "</tr>\n",
       "<tr>\n",
       "  <th>Df Residuals:</th>          <td>    20</td>      <th>  BIC:               </th> <td>   133.6</td>\n",
       "</tr>\n",
       "<tr>\n",
       "  <th>Df Model:</th>              <td>     4</td>      <th>                     </th>     <td> </td>   \n",
       "</tr>\n",
       "<tr>\n",
       "  <th>Covariance Type:</th>      <td>nonrobust</td>    <th>                     </th>     <td> </td>   \n",
       "</tr>\n",
       "</table>\n",
       "<table class=\"simpletable\">\n",
       "<tr>\n",
       "            <td></td>               <th>coef</th>     <th>std err</th>      <th>t</th>      <th>P>|t|</th>  <th>[0.025</th>    <th>0.975]</th>  \n",
       "</tr>\n",
       "<tr>\n",
       "  <th>Intercept</th>             <td>    9.8000</td> <td>    1.270</td> <td>    7.719</td> <td> 0.000</td> <td>    7.152</td> <td>   12.448</td>\n",
       "</tr>\n",
       "<tr>\n",
       "  <th>treatment[T.cotwt.20]</th> <td>    5.6000</td> <td>    1.796</td> <td>    3.119</td> <td> 0.005</td> <td>    1.855</td> <td>    9.345</td>\n",
       "</tr>\n",
       "<tr>\n",
       "  <th>treatment[T.cotwt.25]</th> <td>    7.8000</td> <td>    1.796</td> <td>    4.344</td> <td> 0.000</td> <td>    4.055</td> <td>   11.545</td>\n",
       "</tr>\n",
       "<tr>\n",
       "  <th>treatment[T.cotwt.30]</th> <td>   11.8000</td> <td>    1.796</td> <td>    6.572</td> <td> 0.000</td> <td>    8.055</td> <td>   15.545</td>\n",
       "</tr>\n",
       "<tr>\n",
       "  <th>treatment[T.cotwt.35]</th> <td>    1.0000</td> <td>    1.796</td> <td>    0.557</td> <td> 0.584</td> <td>   -2.745</td> <td>    4.745</td>\n",
       "</tr>\n",
       "</table>\n",
       "<table class=\"simpletable\">\n",
       "<tr>\n",
       "  <th>Omnibus:</th>       <td> 1.435</td> <th>  Durbin-Watson:     </th> <td>   2.402</td>\n",
       "</tr>\n",
       "<tr>\n",
       "  <th>Prob(Omnibus):</th> <td> 0.488</td> <th>  Jarque-Bera (JB):  </th> <td>   0.957</td>\n",
       "</tr>\n",
       "<tr>\n",
       "  <th>Skew:</th>          <td> 0.106</td> <th>  Prob(JB):          </th> <td>   0.620</td>\n",
       "</tr>\n",
       "<tr>\n",
       "  <th>Kurtosis:</th>      <td> 2.065</td> <th>  Cond. No.          </th> <td>    5.83</td>\n",
       "</tr>\n",
       "</table><br/><br/>Warnings:<br/>[1] Standard Errors assume that the covariance matrix of the errors is correctly specified."
      ],
      "text/plain": [
       "<class 'statsmodels.iolib.summary.Summary'>\n",
       "\"\"\"\n",
       "                            OLS Regression Results                            \n",
       "==============================================================================\n",
       "Dep. Variable:                  value   R-squared:                       0.747\n",
       "Model:                            OLS   Adj. R-squared:                  0.696\n",
       "Method:                 Least Squares   F-statistic:                     14.76\n",
       "Date:                Thu, 03 Mar 2022   Prob (F-statistic):           9.13e-06\n",
       "Time:                        17:38:25   Log-Likelihood:                -58.771\n",
       "No. Observations:                  25   AIC:                             127.5\n",
       "Df Residuals:                      20   BIC:                             133.6\n",
       "Df Model:                           4                                         \n",
       "Covariance Type:            nonrobust                                         \n",
       "=========================================================================================\n",
       "                            coef    std err          t      P>|t|      [0.025      0.975]\n",
       "-----------------------------------------------------------------------------------------\n",
       "Intercept                 9.8000      1.270      7.719      0.000       7.152      12.448\n",
       "treatment[T.cotwt.20]     5.6000      1.796      3.119      0.005       1.855       9.345\n",
       "treatment[T.cotwt.25]     7.8000      1.796      4.344      0.000       4.055      11.545\n",
       "treatment[T.cotwt.30]    11.8000      1.796      6.572      0.000       8.055      15.545\n",
       "treatment[T.cotwt.35]     1.0000      1.796      0.557      0.584      -2.745       4.745\n",
       "==============================================================================\n",
       "Omnibus:                        1.435   Durbin-Watson:                   2.402\n",
       "Prob(Omnibus):                  0.488   Jarque-Bera (JB):                0.957\n",
       "Skew:                           0.106   Prob(JB):                        0.620\n",
       "Kurtosis:                       2.065   Cond. No.                         5.83\n",
       "==============================================================================\n",
       "\n",
       "Warnings:\n",
       "[1] Standard Errors assume that the covariance matrix of the errors is correctly specified.\n",
       "\"\"\""
      ]
     },
     "execution_count": 15,
     "metadata": {},
     "output_type": "execute_result"
    }
   ],
   "source": [
    "model=ols('value ~ treatment ',data=data_r1).fit()\n",
    "model.summary()"
   ]
  },
  {
   "cell_type": "code",
   "execution_count": 16,
   "metadata": {},
   "outputs": [
    {
     "data": {
      "text/html": [
       "<div>\n",
       "<style scoped>\n",
       "    .dataframe tbody tr th:only-of-type {\n",
       "        vertical-align: middle;\n",
       "    }\n",
       "\n",
       "    .dataframe tbody tr th {\n",
       "        vertical-align: top;\n",
       "    }\n",
       "\n",
       "    .dataframe thead th {\n",
       "        text-align: right;\n",
       "    }\n",
       "</style>\n",
       "<table border=\"1\" class=\"dataframe\">\n",
       "  <thead>\n",
       "    <tr style=\"text-align: right;\">\n",
       "      <th></th>\n",
       "      <th>df</th>\n",
       "      <th>sum_sq</th>\n",
       "      <th>mean_sq</th>\n",
       "      <th>F</th>\n",
       "      <th>PR(&gt;F)</th>\n",
       "    </tr>\n",
       "  </thead>\n",
       "  <tbody>\n",
       "    <tr>\n",
       "      <th>treatment</th>\n",
       "      <td>4.0</td>\n",
       "      <td>475.76</td>\n",
       "      <td>118.94</td>\n",
       "      <td>14.756824</td>\n",
       "      <td>0.000009</td>\n",
       "    </tr>\n",
       "    <tr>\n",
       "      <th>Residual</th>\n",
       "      <td>20.0</td>\n",
       "      <td>161.20</td>\n",
       "      <td>8.06</td>\n",
       "      <td>NaN</td>\n",
       "      <td>NaN</td>\n",
       "    </tr>\n",
       "  </tbody>\n",
       "</table>\n",
       "</div>"
      ],
      "text/plain": [
       "             df  sum_sq  mean_sq          F    PR(>F)\n",
       "treatment   4.0  475.76   118.94  14.756824  0.000009\n",
       "Residual   20.0  161.20     8.06        NaN       NaN"
      ]
     },
     "execution_count": 16,
     "metadata": {},
     "output_type": "execute_result"
    }
   ],
   "source": [
    "aov_table = sm.stats.anova_lm(model,typ=1)\n",
    "aov_table"
   ]
  },
  {
   "cell_type": "code",
   "execution_count": 20,
   "metadata": {},
   "outputs": [
    {
     "data": {
      "text/html": [
       "<table class=\"simpletable\">\n",
       "<caption>Multiple Comparison of Means - Tukey HSD, FWER=0.05</caption>\n",
       "<tr>\n",
       "   <th>group1</th>   <th>group2</th>  <th>meandiff</th>  <th>p-adj</th>   <th>lower</th>   <th>upper</th>  <th>reject</th>\n",
       "</tr>\n",
       "<tr>\n",
       "  <td>cotwt.15</td> <td>cotwt.20</td>    <td>5.6</td>   <td>0.0385</td>  <td>0.2266</td>  <td>10.9734</td>  <td>True</td> \n",
       "</tr>\n",
       "<tr>\n",
       "  <td>cotwt.15</td> <td>cotwt.25</td>    <td>7.8</td>   <td>0.0026</td>  <td>2.4266</td>  <td>13.1734</td>  <td>True</td> \n",
       "</tr>\n",
       "<tr>\n",
       "  <td>cotwt.15</td> <td>cotwt.30</td>   <td>11.8</td>    <td>0.001</td>  <td>6.4266</td>  <td>17.1734</td>  <td>True</td> \n",
       "</tr>\n",
       "<tr>\n",
       "  <td>cotwt.15</td> <td>cotwt.35</td>    <td>1.0</td>     <td>0.9</td>   <td>-4.3734</td> <td>6.3734</td>   <td>False</td>\n",
       "</tr>\n",
       "<tr>\n",
       "  <td>cotwt.20</td> <td>cotwt.25</td>    <td>2.2</td>   <td>0.7148</td>  <td>-3.1734</td> <td>7.5734</td>   <td>False</td>\n",
       "</tr>\n",
       "<tr>\n",
       "  <td>cotwt.20</td> <td>cotwt.30</td>    <td>6.2</td>   <td>0.0189</td>  <td>0.8266</td>  <td>11.5734</td>  <td>True</td> \n",
       "</tr>\n",
       "<tr>\n",
       "  <td>cotwt.20</td> <td>cotwt.35</td>   <td>-4.6</td>   <td>0.1165</td>  <td>-9.9734</td> <td>0.7734</td>   <td>False</td>\n",
       "</tr>\n",
       "<tr>\n",
       "  <td>cotwt.25</td> <td>cotwt.30</td>    <td>4.0</td>   <td>0.2102</td>  <td>-1.3734</td> <td>9.3734</td>   <td>False</td>\n",
       "</tr>\n",
       "<tr>\n",
       "  <td>cotwt.25</td> <td>cotwt.35</td>   <td>-6.8</td>   <td>0.0091</td> <td>-12.1734</td> <td>-1.4266</td>  <td>True</td> \n",
       "</tr>\n",
       "<tr>\n",
       "  <td>cotwt.30</td> <td>cotwt.35</td>   <td>-10.8</td>   <td>0.001</td> <td>-16.1734</td> <td>-5.4266</td>  <td>True</td> \n",
       "</tr>\n",
       "</table>"
      ],
      "text/plain": [
       "<class 'statsmodels.iolib.table.SimpleTable'>"
      ]
     },
     "execution_count": 20,
     "metadata": {},
     "output_type": "execute_result"
    }
   ],
   "source": [
    "from statsmodels.stats.multicomp import pairwise_tukeyhsd\n",
    "from statsmodels.stats.multicomp import MultiComparison\n",
    "mc = MultiComparison(data_r1['value'],data_r1['treatment'])\n",
    "mcresult = mc.tukeyhsd(0.05)\n",
    "mcresult.summary()"
   ]
  },
  {
   "cell_type": "code",
   "execution_count": 21,
   "metadata": {},
   "outputs": [
    {
     "data": {
      "text/plain": [
       "2.8660814020156584"
      ]
     },
     "execution_count": 21,
     "metadata": {},
     "output_type": "execute_result"
    }
   ],
   "source": [
    "scipy.stats.f.ppf(1-0.05,dfn = 4,dfd = 20) #dfn = degree of freedom of numerator, dfn=d = degree of freedom of denominator"
   ]
  },
  {
   "cell_type": "code",
   "execution_count": null,
   "metadata": {},
   "outputs": [],
   "source": []
  }
 ],
 "metadata": {
  "kernelspec": {
   "display_name": "Python 3",
   "language": "python",
   "name": "python3"
  },
  "language_info": {
   "codemirror_mode": {
    "name": "ipython",
    "version": 3
   },
   "file_extension": ".py",
   "mimetype": "text/x-python",
   "name": "python",
   "nbconvert_exporter": "python",
   "pygments_lexer": "ipython3",
   "version": "3.7.6"
  }
 },
 "nbformat": 4,
 "nbformat_minor": 4
}
