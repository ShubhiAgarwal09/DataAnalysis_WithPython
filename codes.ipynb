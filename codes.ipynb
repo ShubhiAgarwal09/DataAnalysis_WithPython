{
 "cells": [
  {
   "cell_type": "code",
   "execution_count": 22,
   "metadata": {},
   "outputs": [
    {
     "name": "stdout",
     "output_type": "stream",
     "text": [
      "2 found at pos 1\n",
      "Not found\n"
     ]
    }
   ],
   "source": [
    "found = 0\n",
    "def linear(list,ele):\n",
    "    for i in range(0,len(list)):\n",
    "        if(list[i]==ele):\n",
    "            print(ele,\"found at pos\",i)\n",
    "            found=1\n",
    "            break\n",
    "    \n",
    "list=[1,2,3,4,5]\n",
    "linear(list,2)\n",
    "if(found==0):\n",
    "    print(\"Not found\")"
   ]
  },
  {
   "cell_type": "code",
   "execution_count": 13,
   "metadata": {},
   "outputs": [
    {
     "name": "stdout",
     "output_type": "stream",
     "text": [
      "Enter the number to search: 17\n",
      "Element found at  5\n"
     ]
    }
   ],
   "source": [
    "def bin_search(list,low,high,ele):\n",
    "    while(low<=high):\n",
    "        mid = (low+high)//2\n",
    "        if(list[mid]==ele):\n",
    "            return mid\n",
    "        elif(list[mid]<ele):\n",
    "            low = mid+1\n",
    "        else:\n",
    "            high= mid-1\n",
    "            \n",
    "            \n",
    "list = [12,13,14,15,16,17]\n",
    "n = len(list)-1\n",
    "low = 0\n",
    "high = n\n",
    "ele = int(input(\"Enter the number to search: \"))\n",
    "a=bin_search(list,low,high,ele)\n",
    "if(a is None):\n",
    "    print(\"Not found\")\n",
    "else:\n",
    "    print(\"Element found at \",a)\n",
    "\n"
   ]
  },
  {
   "cell_type": "code",
   "execution_count": 4,
   "metadata": {},
   "outputs": [
    {
     "name": "stderr",
     "output_type": "stream",
     "text": [
      "\n",
      "    Error 263 for command:\n",
      "        open speech.mp3\n",
      "    The specified device is not open or is not recognized by MCI.\n",
      "\n",
      "    Error 263 for command:\n",
      "        close speech.mp3\n",
      "    The specified device is not open or is not recognized by MCI.\n",
      "Failed to close the file: speech.mp3\n"
     ]
    },
    {
     "ename": "PlaysoundException",
     "evalue": "\n    Error 263 for command:\n        open speech.mp3\n    The specified device is not open or is not recognized by MCI.",
     "output_type": "error",
     "traceback": [
      "\u001b[1;31m---------------------------------------------------------------------------\u001b[0m",
      "\u001b[1;31mPlaysoundException\u001b[0m                        Traceback (most recent call last)",
      "\u001b[1;32m<ipython-input-4-0efedb3943c6>\u001b[0m in \u001b[0;36m<module>\u001b[1;34m\u001b[0m\n\u001b[0;32m      6\u001b[0m \u001b[0msp\u001b[0m \u001b[1;33m=\u001b[0m \u001b[0mgTTS\u001b[0m\u001b[1;33m(\u001b[0m\u001b[0mtext\u001b[0m \u001b[1;33m=\u001b[0m \u001b[1;34m\"Enter text \"\u001b[0m\u001b[1;33m,\u001b[0m\u001b[0mlang\u001b[0m \u001b[1;33m=\u001b[0m \u001b[0mlanguage\u001b[0m\u001b[1;33m,\u001b[0m\u001b[0mslow\u001b[0m\u001b[1;33m=\u001b[0m\u001b[1;32mFalse\u001b[0m\u001b[1;33m)\u001b[0m\u001b[1;33m\u001b[0m\u001b[1;33m\u001b[0m\u001b[0m\n\u001b[0;32m      7\u001b[0m \u001b[0msp\u001b[0m\u001b[1;33m.\u001b[0m\u001b[0msave\u001b[0m\u001b[1;33m(\u001b[0m\u001b[0maudio\u001b[0m\u001b[1;33m)\u001b[0m\u001b[1;33m\u001b[0m\u001b[1;33m\u001b[0m\u001b[0m\n\u001b[1;32m----> 8\u001b[1;33m \u001b[0mplaysound\u001b[0m\u001b[1;33m(\u001b[0m\u001b[0maudio\u001b[0m\u001b[1;33m)\u001b[0m\u001b[1;33m\u001b[0m\u001b[1;33m\u001b[0m\u001b[0m\n\u001b[0m",
      "\u001b[1;32m~\\anaconda3\\lib\\site-packages\\playsound.py\u001b[0m in \u001b[0;36m_playsoundWin\u001b[1;34m(sound, block)\u001b[0m\n\u001b[0;32m     70\u001b[0m     \u001b[1;32mtry\u001b[0m\u001b[1;33m:\u001b[0m\u001b[1;33m\u001b[0m\u001b[1;33m\u001b[0m\u001b[0m\n\u001b[0;32m     71\u001b[0m         \u001b[0mlogger\u001b[0m\u001b[1;33m.\u001b[0m\u001b[0mdebug\u001b[0m\u001b[1;33m(\u001b[0m\u001b[1;34m'Starting'\u001b[0m\u001b[1;33m)\u001b[0m\u001b[1;33m\u001b[0m\u001b[1;33m\u001b[0m\u001b[0m\n\u001b[1;32m---> 72\u001b[1;33m         \u001b[0mwinCommand\u001b[0m\u001b[1;33m(\u001b[0m\u001b[1;34mu'open {}'\u001b[0m\u001b[1;33m.\u001b[0m\u001b[0mformat\u001b[0m\u001b[1;33m(\u001b[0m\u001b[0msound\u001b[0m\u001b[1;33m)\u001b[0m\u001b[1;33m)\u001b[0m\u001b[1;33m\u001b[0m\u001b[1;33m\u001b[0m\u001b[0m\n\u001b[0m\u001b[0;32m     73\u001b[0m         \u001b[0mwinCommand\u001b[0m\u001b[1;33m(\u001b[0m\u001b[1;34mu'play {}{}'\u001b[0m\u001b[1;33m.\u001b[0m\u001b[0mformat\u001b[0m\u001b[1;33m(\u001b[0m\u001b[0msound\u001b[0m\u001b[1;33m,\u001b[0m \u001b[1;34m' wait'\u001b[0m \u001b[1;32mif\u001b[0m \u001b[0mblock\u001b[0m \u001b[1;32melse\u001b[0m \u001b[1;34m''\u001b[0m\u001b[1;33m)\u001b[0m\u001b[1;33m)\u001b[0m\u001b[1;33m\u001b[0m\u001b[1;33m\u001b[0m\u001b[0m\n\u001b[0;32m     74\u001b[0m         \u001b[0mlogger\u001b[0m\u001b[1;33m.\u001b[0m\u001b[0mdebug\u001b[0m\u001b[1;33m(\u001b[0m\u001b[1;34m'Returning'\u001b[0m\u001b[1;33m)\u001b[0m\u001b[1;33m\u001b[0m\u001b[1;33m\u001b[0m\u001b[0m\n",
      "\u001b[1;32m~\\anaconda3\\lib\\site-packages\\playsound.py\u001b[0m in \u001b[0;36mwinCommand\u001b[1;34m(*command)\u001b[0m\n\u001b[0;32m     62\u001b[0m                                 '\\n    ' + errorBuffer.raw.decode('utf-16').rstrip('\\0'))\n\u001b[0;32m     63\u001b[0m             \u001b[0mlogger\u001b[0m\u001b[1;33m.\u001b[0m\u001b[0merror\u001b[0m\u001b[1;33m(\u001b[0m\u001b[0mexceptionMessage\u001b[0m\u001b[1;33m)\u001b[0m\u001b[1;33m\u001b[0m\u001b[1;33m\u001b[0m\u001b[0m\n\u001b[1;32m---> 64\u001b[1;33m             \u001b[1;32mraise\u001b[0m \u001b[0mPlaysoundException\u001b[0m\u001b[1;33m(\u001b[0m\u001b[0mexceptionMessage\u001b[0m\u001b[1;33m)\u001b[0m\u001b[1;33m\u001b[0m\u001b[1;33m\u001b[0m\u001b[0m\n\u001b[0m\u001b[0;32m     65\u001b[0m         \u001b[1;32mreturn\u001b[0m \u001b[0mbuf\u001b[0m\u001b[1;33m.\u001b[0m\u001b[0mvalue\u001b[0m\u001b[1;33m\u001b[0m\u001b[1;33m\u001b[0m\u001b[0m\n\u001b[0;32m     66\u001b[0m \u001b[1;33m\u001b[0m\u001b[0m\n",
      "\u001b[1;31mPlaysoundException\u001b[0m: \n    Error 263 for command:\n        open speech.mp3\n    The specified device is not open or is not recognized by MCI."
     ]
    }
   ],
   "source": [
    "from gtts import gTTS\n",
    "from playsound import playsound\n",
    "\n",
    "audio = 'speech.mp3'\n",
    "language = 'en'\n",
    "sp = gTTS(text = \"Enter text \",lang = language,slow=False)\n",
    "sp.save(audio)\n",
    "playsound(audio)"
   ]
  },
  {
   "cell_type": "code",
   "execution_count": 1,
   "metadata": {},
   "outputs": [],
   "source": [
    "from turtle import *\n",
    "speed(10)\n",
    "color('cyan')\n",
    "bgcolor('black')\n",
    "b=200\n",
    "while b>0:\n",
    "    left(b)\n",
    "    forward(b*3)\n",
    "    b=b-1"
   ]
  },
  {
   "cell_type": "code",
   "execution_count": 4,
   "metadata": {},
   "outputs": [
    {
     "name": "stdout",
     "output_type": "stream",
     "text": [
      "20\n",
      "Shubhi\n"
     ]
    }
   ],
   "source": [
    "class student:\n",
    "    def __init__(self,id,name):\n",
    "        self.id = id\n",
    "        self.name = name\n",
    "    def Display(self):\n",
    "        print(self.id)\n",
    "        print(self.name)\n",
    "obj = student(20,\"Shubhi\")\n",
    "obj.Display()"
   ]
  },
  {
   "cell_type": "code",
   "execution_count": 10,
   "metadata": {},
   "outputs": [
    {
     "name": "stdout",
     "output_type": "stream",
     "text": [
      "20\n",
      "Shubhi\n",
      "CSE\n",
      "9935752178\n",
      "\n",
      "20\n",
      "Shubhi\n"
     ]
    }
   ],
   "source": [
    "class student:\n",
    "    def __init__(self,id,name,dept,phone):\n",
    "        self.id = id\n",
    "        self.name = name\n",
    "        self.dept= dept\n",
    "        self.phone = phone\n",
    "    def Display(self):\n",
    "        if(self.dept ==\"CSE\"):\n",
    "            print(self.id)\n",
    "            print(self.name)\n",
    "            print(self.dept)\n",
    "            print(self.phone)\n",
    "        else:\n",
    "            print(self.id)\n",
    "            print(self.name)\n",
    "obj = student(20,\"Shubhi\",\"CSE\",9935752178)\n",
    "obj.Display()\n",
    "print()\n",
    "obj1 = student(20,\"Shubhi\",\"ME\",9935752178)\n",
    "obj1.Display()"
   ]
  },
  {
   "cell_type": "code",
   "execution_count": 20,
   "metadata": {},
   "outputs": [
    {
     "ename": "SyntaxError",
     "evalue": "'break' outside loop (<ipython-input-20-3706057ffe32>, line 12)",
     "output_type": "error",
     "traceback": [
      "\u001b[1;36m  File \u001b[1;32m\"<ipython-input-20-3706057ffe32>\"\u001b[1;36m, line \u001b[1;32m12\u001b[0m\n\u001b[1;33m    if(num%i==0):\u001b[0m\n\u001b[1;37m       ^\u001b[0m\n\u001b[1;31mSyntaxError\u001b[0m\u001b[1;31m:\u001b[0m 'break' outside loop\n"
     ]
    }
   ],
   "source": [
    "import math\n",
    "x = int(input(\"Enter a number: \"))\n",
    "class check:\n",
    "    def __init__(self,num):\n",
    "        self.num = num\n",
    "    def evenodd(self):\n",
    "        if(num%2==0):\n",
    "            print(\"even\")\n",
    "            break\n",
    "        else:\n",
    "            for i in range(0,math.sqrt(num)):\n",
    "                if(num%i==0):\n",
    "                    print(\"Non-Prime\")\n",
    "                    break\n",
    "                else:\n",
    "                    temp=num\n",
    "                    revnum=0\n",
    "                    while(num>0):\n",
    "                        dig=num%10\n",
    "                        revnum=revnum*10+dig\n",
    "                        num=num//10\n",
    "                    if(temp==revnum):\n",
    "                        print(\"The number is a palindrome!\")\n",
    "                    else:\n",
    "                        print(\"The number isn't a palindrome!\")\n",
    "                    \n",
    "obj = check(x)\n",
    "obj.evenodd()\n"
   ]
  },
  {
   "cell_type": "code",
   "execution_count": 23,
   "metadata": {},
   "outputs": [
    {
     "name": "stdout",
     "output_type": "stream",
     "text": [
      "This is child class\n",
      "This is parent class \n"
     ]
    }
   ],
   "source": [
    "class parent:\n",
    "    def base(self):\n",
    "        print(\"This is parent class \")\n",
    "class derived(parent):\n",
    "    def new(self):\n",
    "        print(\"This is child class\")\n",
    "\n",
    "obj=derived()\n",
    "obj.new()\n",
    "obj.base()"
   ]
  },
  {
   "cell_type": "code",
   "execution_count": 3,
   "metadata": {},
   "outputs": [
    {
     "name": "stdout",
     "output_type": "stream",
     "text": [
      "Sorted Array is : 10 14 23 46 56 79 "
     ]
    }
   ],
   "source": [
    "def bubbleSort(arr):\n",
    "    n=  len(arr)\n",
    "    \n",
    "    for i in range(n-1):\n",
    "        for j in range (0,n-i-1):\n",
    "            if arr[j]>arr[j+1]:\n",
    "                arr[j],arr[j+1]= arr[j+1],arr[j]\n",
    "                \n",
    "lst = [14,79,46,23,10,56]\n",
    "bubbleSort(lst)\n",
    "print(\"Sorted Array is :\",end=\" \")\n",
    "for i in range(len(lst)):\n",
    "    print(lst[i],end=\" \")"
   ]
  },
  {
   "cell_type": "code",
   "execution_count": 1,
   "metadata": {},
   "outputs": [
    {
     "ename": "ModuleNotFoundError",
     "evalue": "No module named 'Grammar'",
     "output_type": "error",
     "traceback": [
      "\u001b[1;31m---------------------------------------------------------------------------\u001b[0m",
      "\u001b[1;31mModuleNotFoundError\u001b[0m                       Traceback (most recent call last)",
      "\u001b[1;32m<ipython-input-1-6ee7b31ff540>\u001b[0m in \u001b[0;36m<module>\u001b[1;34m\u001b[0m\n\u001b[1;32m----> 1\u001b[1;33m \u001b[1;32mimport\u001b[0m \u001b[0mGrammar\u001b[0m\u001b[1;33m.\u001b[0m\u001b[0mgrammarImport\u001b[0m \u001b[1;32mas\u001b[0m \u001b[0mGrammar\u001b[0m\u001b[1;33m\u001b[0m\u001b[1;33m\u001b[0m\u001b[0m\n\u001b[0m\u001b[0;32m      2\u001b[0m \u001b[1;32mimport\u001b[0m \u001b[0mUtils\u001b[0m\u001b[1;33m.\u001b[0m\u001b[0mconstants\u001b[0m \u001b[1;32mas\u001b[0m \u001b[0mconstant\u001b[0m\u001b[1;33m\u001b[0m\u001b[1;33m\u001b[0m\u001b[0m\n\u001b[0;32m      3\u001b[0m \u001b[1;32mfrom\u001b[0m \u001b[0mAutomata\u001b[0m\u001b[1;33m.\u001b[0m\u001b[0mstate\u001b[0m \u001b[1;32mimport\u001b[0m \u001b[0mState\u001b[0m\u001b[1;33m\u001b[0m\u001b[1;33m\u001b[0m\u001b[0m\n\u001b[0;32m      4\u001b[0m \u001b[1;32mfrom\u001b[0m \u001b[0mAutomata\u001b[0m\u001b[1;33m.\u001b[0m\u001b[0mtransition\u001b[0m \u001b[1;32mimport\u001b[0m \u001b[0mTransition\u001b[0m\u001b[1;33m\u001b[0m\u001b[1;33m\u001b[0m\u001b[0m\n\u001b[0;32m      5\u001b[0m \u001b[1;33m\u001b[0m\u001b[0m\n",
      "\u001b[1;31mModuleNotFoundError\u001b[0m: No module named 'Grammar'"
     ]
    }
   ],
   "source": [
    "import Grammar.grammarImport as Grammar\n",
    "import Utils.constants as constant\n",
    "from Automata.state import State\n",
    "from Automata.transition import Transition\n",
    "\n",
    "debug = False # debug mode, shows stack contents while parsing\n",
    "\n",
    "class Automaton:\n",
    "    def __init__(self, states, transitions):\n",
    "        self.states = states\n",
    "        self.transitions = transitions\n",
    "\n",
    "    def toPda(self):\n",
    "        trFunc = {}\n",
    "        print(\"Transitions:\")\n",
    "        for t in self.transitions:\n",
    "            key = (t.currState, t.inputSymbol, t.popSymbol)\n",
    "            # make a new key in transition function if not found\n",
    "            if (not key in trFunc.keys()):\n",
    "                trFunc[key] = []\n",
    "            trFunc[key].append((t.nextState, t.pushSymbols))\n",
    "        trFunc = enumerate(trFunc.items())\n",
    "        for i, (key, value) in trFunc:\n",
    "            print(constant.DELTA + '(' + str(key[0]) + ',' \n",
    "            + key[1] + ',' + key[2] + ') = {', end=\"\")\n",
    "            targets = []\n",
    "            for val in value:\n",
    "                pushStr = ''.join(val[1])\n",
    "                targets.append(\n",
    "                    '(' + str(val[0]) + ',' + pushStr + ')'\n",
    "                )\n",
    "            print(str(', ').join(targets) + ' }')\n",
    "        \n",
    "    \n",
    "    def checkMembership(self, string):\n",
    "        stack = []\n",
    "        stack.append(constant.EPSILON)\n",
    "        # find initial state\n",
    "        for state in self.states:\n",
    "            if (state.isInitial):\n",
    "                currState = state\n",
    "                break\n",
    "        finishProcess, state = self.matchStr(string, currState, stack)\n",
    "        t = (state.isFinal and finishProcess)\n",
    "        return t\n",
    "\n",
    "    # has exponential time complexity, but is useful for small strings |w| <= 50\n",
    "    def matchStr(self, string, currState, stack):\n",
    "        # print(currState)\n",
    "        idx = stack.__len__() -1\n",
    "        top = stack[idx]\n",
    "        finishProcess = False\n",
    "        # next character to be processed\n",
    "        if len(string) > 0:\n",
    "            inputSym = string[0]\n",
    "        else: inputSym = constant.LAMBDA\n",
    "        state = currState\n",
    "        visited = False # checks if any moves are left to backtrack\n",
    "\n",
    "        for tr in self.transitions:\n",
    "            if tr.currState is currState and (tr.inputSymbol == inputSym or tr.inputSymbol == constant.LAMBDA) and (tr.popSymbol == top):\n",
    "                # remove last element from stack (pop simulation)\n",
    "                newStack = stack [:-1]\n",
    "                # add the non-lambda transition push symbols to stack\n",
    "                pushSymbols = tr.pushSymbols[:]\n",
    "                pushSymbols.reverse()\n",
    "                for sym in pushSymbols:\n",
    "                    if sym == constant.LAMBDA:\n",
    "                        continue\n",
    "                    newStack.append(sym)\n",
    "                if debug:\n",
    "                    print(newStack)\n",
    "                # don't truncate if input symbol was lambda\n",
    "                if (tr.inputSymbol == constant.LAMBDA):\n",
    "                    finishProcess, state = self.matchStr(string[:], tr.nextState, newStack)\n",
    "                else:\n",
    "                    finishProcess, state = self.matchStr(string[1:], tr.nextState, newStack)\n",
    "                visited = True #mark path traversed\n",
    "                if state.isFinal and finishProcess: break\n",
    "\n",
    "\n",
    "        if not visited: \n",
    "            # mark string processing finished only if string is reduced to base size 0\n",
    "            finishProcess = (len(string) == 0) \n",
    "\n",
    "        return finishProcess, state\n",
    "\n",
    "\n",
    "\n",
    "if __name__ == \"__main__\":\n",
    "    path = input(\"Path for grammar: \").strip()\n",
    "    states, transitions = Grammar.importGrammar(path)\n",
    "    \n",
    "    pda = Automaton(states, transitions)\n",
    "    pda.toPda()\n",
    "    \n",
    "    while(True):\n",
    "        print(\"Parse targets? (Y/N)\")\n",
    "        inp = input().strip().capitalize()\n",
    "        if (inp != \"Y\"): break\n",
    "        string = input(\"String to parse: \").strip()\n",
    "        isMember = pda.checkMembership(string)\n",
    "        if isMember:\n",
    "            print(\"String \" + string + \" is part of the language.\")\n",
    "        else:\n",
    "            print(\"String \" + string + \" is not in the language.\")"
   ]
  },
  {
   "cell_type": "code",
   "execution_count": 23,
   "metadata": {},
   "outputs": [
    {
     "name": "stdout",
     "output_type": "stream",
     "text": [
      "<class 'pandas.core.frame.DataFrame'>\n",
      "RangeIndex: 182 entries, 0 to 181\n",
      "Data columns (total 5 columns):\n",
      " #   Column           Non-Null Count  Dtype  \n",
      "---  ------           --------------  -----  \n",
      " 0   Country          169 non-null    object \n",
      " 1   Continent        164 non-null    object \n",
      " 2   female literacy  169 non-null    object \n",
      " 3   fertility        163 non-null    object \n",
      " 4   population       162 non-null    float64\n",
      "dtypes: float64(1), object(4)\n",
      "memory usage: 7.2+ KB\n",
      "female literacy\n",
      "100                1.130012e+07\n",
      "12.6               2.902110e+07\n",
      "15.1               1.470432e+07\n",
      "18.2               1.270574e+07\n",
      "21.6               1.523388e+07\n",
      "                       ...     \n",
      "99.5               1.125546e+07\n",
      "99.6               4.625820e+07\n",
      "99.7               4.841823e+06\n",
      "99.8               4.937168e+06\n",
      "female literacy             NaN\n",
      "Name: population, Length: 121, dtype: float64\n"
     ]
    }
   ],
   "source": [
    "import pandas as pd\n",
    "import numpy as np\n",
    "import matplotlib.pyplot as plt\n",
    "data_1 = pd.read_csv(\"C:/Users/RUCHI/Downloads/literacy_birth_rate.csv\")\n",
    "data_1.info()\n",
    "print(data_1.groupby('female literacy')['population'].mean())"
   ]
  },
  {
   "cell_type": "code",
   "execution_count": 5,
   "metadata": {},
   "outputs": [
    {
     "name": "stdout",
     "output_type": "stream",
     "text": [
      "<class 'pandas.core.frame.DataFrame'>\n",
      "RangeIndex: 182 entries, 0 to 181\n",
      "Data columns (total 5 columns):\n",
      " #   Column           Non-Null Count  Dtype  \n",
      "---  ------           --------------  -----  \n",
      " 0   Country          169 non-null    object \n",
      " 1   Continent        164 non-null    object \n",
      " 2   female literacy  169 non-null    object \n",
      " 3   fertility        163 non-null    object \n",
      " 4   population       162 non-null    float64\n",
      "dtypes: float64(1), object(4)\n",
      "memory usage: 7.2+ KB\n"
     ]
    }
   ],
   "source": [
    "data_1.info()"
   ]
  },
  {
   "cell_type": "code",
   "execution_count": 9,
   "metadata": {},
   "outputs": [
    {
     "name": "stdout",
     "output_type": "stream",
     "text": [
      "female literacy\n",
      "100                1.130012e+07\n",
      "12.6               2.902110e+07\n",
      "15.1               1.470432e+07\n",
      "18.2               1.270574e+07\n",
      "21.6               1.523388e+07\n",
      "                       ...     \n",
      "99.5               1.125546e+07\n",
      "99.6               4.625820e+07\n",
      "99.7               4.841823e+06\n",
      "99.8               4.937168e+06\n",
      "female literacy             NaN\n",
      "Name: population, Length: 121, dtype: float64\n"
     ]
    }
   ],
   "source": [
    "print(data_1.groupby('female literacy')['population'].mean())"
   ]
  },
  {
   "cell_type": "code",
   "execution_count": 22,
   "metadata": {},
   "outputs": [
    {
     "data": {
      "text/html": [
       "<div>\n",
       "<style scoped>\n",
       "    .dataframe tbody tr th:only-of-type {\n",
       "        vertical-align: middle;\n",
       "    }\n",
       "\n",
       "    .dataframe tbody tr th {\n",
       "        vertical-align: top;\n",
       "    }\n",
       "\n",
       "    .dataframe thead th {\n",
       "        text-align: right;\n",
       "    }\n",
       "</style>\n",
       "<table border=\"1\" class=\"dataframe\">\n",
       "  <thead>\n",
       "    <tr style=\"text-align: right;\">\n",
       "      <th></th>\n",
       "      <th>Country</th>\n",
       "      <th>Continent</th>\n",
       "      <th>female literacy</th>\n",
       "      <th>fertility</th>\n",
       "      <th>population</th>\n",
       "    </tr>\n",
       "  </thead>\n",
       "  <tbody>\n",
       "    <tr>\n",
       "      <th>175</th>\n",
       "      <td>Country</td>\n",
       "      <td>Continent</td>\n",
       "      <td>female literacy</td>\n",
       "      <td>fertility</td>\n",
       "      <td>NaN</td>\n",
       "    </tr>\n",
       "    <tr>\n",
       "      <th>130</th>\n",
       "      <td>Lettonie</td>\n",
       "      <td>EUR</td>\n",
       "      <td>99.8</td>\n",
       "      <td>1.426</td>\n",
       "      <td>2266094.0</td>\n",
       "    </tr>\n",
       "    <tr>\n",
       "      <th>71</th>\n",
       "      <td>Cuba</td>\n",
       "      <td>LAT</td>\n",
       "      <td>99.8</td>\n",
       "      <td>1.505</td>\n",
       "      <td>11204735.0</td>\n",
       "    </tr>\n",
       "    <tr>\n",
       "      <th>139</th>\n",
       "      <td>Estonie</td>\n",
       "      <td>EUR</td>\n",
       "      <td>99.8</td>\n",
       "      <td>1.693</td>\n",
       "      <td>1340675.0</td>\n",
       "    </tr>\n",
       "    <tr>\n",
       "      <th>114</th>\n",
       "      <td>Géorgie</td>\n",
       "      <td>ASI</td>\n",
       "      <td>99.7</td>\n",
       "      <td>1.582</td>\n",
       "      <td>4307011.0</td>\n",
       "    </tr>\n",
       "    <tr>\n",
       "      <th>...</th>\n",
       "      <td>...</td>\n",
       "      <td>...</td>\n",
       "      <td>...</td>\n",
       "      <td>...</td>\n",
       "      <td>...</td>\n",
       "    </tr>\n",
       "    <tr>\n",
       "      <th>170</th>\n",
       "      <td>NaN</td>\n",
       "      <td>NaN</td>\n",
       "      <td>NaN</td>\n",
       "      <td>NaN</td>\n",
       "      <td>NaN</td>\n",
       "    </tr>\n",
       "    <tr>\n",
       "      <th>171</th>\n",
       "      <td>NaN</td>\n",
       "      <td>NaN</td>\n",
       "      <td>NaN</td>\n",
       "      <td>NaN</td>\n",
       "      <td>NaN</td>\n",
       "    </tr>\n",
       "    <tr>\n",
       "      <th>172</th>\n",
       "      <td>NaN</td>\n",
       "      <td>NaN</td>\n",
       "      <td>NaN</td>\n",
       "      <td>NaN</td>\n",
       "      <td>NaN</td>\n",
       "    </tr>\n",
       "    <tr>\n",
       "      <th>173</th>\n",
       "      <td>NaN</td>\n",
       "      <td>NaN</td>\n",
       "      <td>NaN</td>\n",
       "      <td>NaN</td>\n",
       "      <td>NaN</td>\n",
       "    </tr>\n",
       "    <tr>\n",
       "      <th>174</th>\n",
       "      <td>NaN</td>\n",
       "      <td>NaN</td>\n",
       "      <td>NaN</td>\n",
       "      <td>NaN</td>\n",
       "      <td>NaN</td>\n",
       "    </tr>\n",
       "  </tbody>\n",
       "</table>\n",
       "<p>182 rows × 5 columns</p>\n",
       "</div>"
      ],
      "text/plain": [
       "      Country Continent   female literacy  fertility  population\n",
       "175  Country   Continent  female literacy  fertility         NaN\n",
       "130  Lettonie        EUR             99.8      1.426   2266094.0\n",
       "71       Cuba        LAT             99.8      1.505  11204735.0\n",
       "139   Estonie        EUR             99.8      1.693   1340675.0\n",
       "114   Géorgie        ASI             99.7      1.582   4307011.0\n",
       "..        ...        ...              ...        ...         ...\n",
       "170       NaN        NaN              NaN        NaN         NaN\n",
       "171       NaN        NaN              NaN        NaN         NaN\n",
       "172       NaN        NaN              NaN        NaN         NaN\n",
       "173       NaN        NaN              NaN        NaN         NaN\n",
       "174       NaN        NaN              NaN        NaN         NaN\n",
       "\n",
       "[182 rows x 5 columns]"
      ]
     },
     "execution_count": 22,
     "metadata": {},
     "output_type": "execute_result"
    }
   ],
   "source": [
    "data_1.sort_values(by=\"female literacy\",ascending=False)"
   ]
  },
  {
   "cell_type": "code",
   "execution_count": null,
   "metadata": {},
   "outputs": [],
   "source": []
  }
 ],
 "metadata": {
  "kernelspec": {
   "display_name": "Python 3",
   "language": "python",
   "name": "python3"
  },
  "language_info": {
   "codemirror_mode": {
    "name": "ipython",
    "version": 3
   },
   "file_extension": ".py",
   "mimetype": "text/x-python",
   "name": "python",
   "nbconvert_exporter": "python",
   "pygments_lexer": "ipython3",
   "version": "3.7.6"
  }
 },
 "nbformat": 4,
 "nbformat_minor": 4
}
